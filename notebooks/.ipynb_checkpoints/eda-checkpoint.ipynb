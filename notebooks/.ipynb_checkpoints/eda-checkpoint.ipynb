{
 "cells": [
  {
   "cell_type": "markdown",
   "id": "39b9ebd1-360d-40ee-826c-ff57add8d446",
   "metadata": {},
   "source": [
    "# Spam Email Detection\n",
    "\n",
    "## Introduction\n",
    "\n",
    "This project focuses on detecting spam emails using a dataset containing information from 5,172 randomly selected email files. The goal is to build a classification model that can accurately distinguish between spam and not-spam emails based on the content of the emails.\n",
    "\n",
    "## Source\n",
    "\n",
    "This dataset is available on Kaggele in the following link:\n",
    "\n",
    "> https://www.kaggle.com/datasets/balaka18/email-spam-classification-dataset-csv\n",
    "\n",
    "## About the Dataset\n",
    "\n",
    "The dataset is provided in a CSV file with the following characteristics:\n",
    "\n",
    "- **Rows**: 5,172 rows, each representing an individual email.\n",
    "- **Columns**: 3,002 columns in total.\n",
    "  - **First Column**: Indicates the email name. The names have been anonymized with numbers to protect privacy.\n",
    "  - **Last Column**: Contains the labels for classification:\n",
    "    - `1` for spam emails.\n",
    "    - `0` for not-spam emails.\n",
    "  - **Remaining 3,000 Columns**: These columns represent the 3,000 most common words across all emails, excluding non-alphabetical characters. Each cell in these columns contains the count of the respective word in the corresponding email.\n",
    "\n",
    "This compact representation allows for efficient processing and analysis of email data without needing to work with separate text files.\n",
    "\n",
    "## Problem Statement\n",
    "\n",
    "1. **Exploratory Data Analysis(EDA)**: The objective of EDA is to analyze the features of dataset, find patterns and relationship among the features to identify whether an email is spam or not.\n",
    "2. **Data Cleaning**: Clean the data by removing or imputing missing value, outliers present in the data. Also remove unnecessary features and duplicate rows."
   ]
  },
  {
   "cell_type": "markdown",
   "id": "d182bec9-b400-438e-b516-95a921508bc2",
   "metadata": {},
   "source": [
    "### Load Libraries"
   ]
  },
  {
   "cell_type": "code",
   "execution_count": 4,
   "id": "0c8ebc6c-8b94-4e30-88ff-dd8d09daa794",
   "metadata": {},
   "outputs": [],
   "source": [
    "import pandas as pd\n",
    "import numpy as np\n",
    "import matplotlib.pyplot as plt\n",
    "import seaborn as sns\n",
    "import os\n",
    "import warnings"
   ]
  },
  {
   "cell_type": "markdown",
   "id": "420e3c24-14b8-41ce-9502-0c34f2200aa3",
   "metadata": {},
   "source": [
    "### Settings"
   ]
  },
  {
   "cell_type": "code",
   "execution_count": 5,
   "id": "8c0b1d69-db8a-422f-89a1-afb12accc800",
   "metadata": {},
   "outputs": [],
   "source": [
    "# warning\n",
    "warnings.filterwarnings(\"ignore\")\n",
    "\n",
    "# Plotting\n",
    "sns.set_style(\"darkgrid\")\n",
    "\n",
    "# Path\n",
    "data_path = \"../data\"\n",
    "csv_path = os.path.join(data_path, \"emails.csv\")"
   ]
  },
  {
   "cell_type": "markdown",
   "id": "5ec1d20c-8a5d-4e61-a9ad-61153b6864ba",
   "metadata": {},
   "source": [
    "### Load Data"
   ]
  },
  {
   "cell_type": "code",
   "execution_count": 6,
   "id": "ce3de7a3-1d10-485a-8c11-1439617619e5",
   "metadata": {},
   "outputs": [],
   "source": [
    "df = pd.read_csv(csv_path)"
   ]
  },
  {
   "cell_type": "markdown",
   "id": "0ef7ad0f-edd5-446e-a936-6a9a36116e0b",
   "metadata": {},
   "source": [
    "### General Information"
   ]
  },
  {
   "cell_type": "code",
   "execution_count": 7,
   "id": "0574e825-571e-46b6-b79d-9b81514033c6",
   "metadata": {},
   "outputs": [
    {
     "data": {
      "text/html": [
       "<div>\n",
       "<style scoped>\n",
       "    .dataframe tbody tr th:only-of-type {\n",
       "        vertical-align: middle;\n",
       "    }\n",
       "\n",
       "    .dataframe tbody tr th {\n",
       "        vertical-align: top;\n",
       "    }\n",
       "\n",
       "    .dataframe thead th {\n",
       "        text-align: right;\n",
       "    }\n",
       "</style>\n",
       "<table border=\"1\" class=\"dataframe\">\n",
       "  <thead>\n",
       "    <tr style=\"text-align: right;\">\n",
       "      <th></th>\n",
       "      <th>Email No.</th>\n",
       "      <th>the</th>\n",
       "      <th>to</th>\n",
       "      <th>ect</th>\n",
       "      <th>and</th>\n",
       "      <th>for</th>\n",
       "      <th>of</th>\n",
       "      <th>a</th>\n",
       "      <th>you</th>\n",
       "      <th>hou</th>\n",
       "      <th>...</th>\n",
       "      <th>connevey</th>\n",
       "      <th>jay</th>\n",
       "      <th>valued</th>\n",
       "      <th>lay</th>\n",
       "      <th>infrastructure</th>\n",
       "      <th>military</th>\n",
       "      <th>allowing</th>\n",
       "      <th>ff</th>\n",
       "      <th>dry</th>\n",
       "      <th>Prediction</th>\n",
       "    </tr>\n",
       "  </thead>\n",
       "  <tbody>\n",
       "    <tr>\n",
       "      <th>0</th>\n",
       "      <td>Email 1</td>\n",
       "      <td>0</td>\n",
       "      <td>0</td>\n",
       "      <td>1</td>\n",
       "      <td>0</td>\n",
       "      <td>0</td>\n",
       "      <td>0</td>\n",
       "      <td>2</td>\n",
       "      <td>0</td>\n",
       "      <td>0</td>\n",
       "      <td>...</td>\n",
       "      <td>0</td>\n",
       "      <td>0</td>\n",
       "      <td>0</td>\n",
       "      <td>0</td>\n",
       "      <td>0</td>\n",
       "      <td>0</td>\n",
       "      <td>0</td>\n",
       "      <td>0</td>\n",
       "      <td>0</td>\n",
       "      <td>0</td>\n",
       "    </tr>\n",
       "    <tr>\n",
       "      <th>1</th>\n",
       "      <td>Email 2</td>\n",
       "      <td>8</td>\n",
       "      <td>13</td>\n",
       "      <td>24</td>\n",
       "      <td>6</td>\n",
       "      <td>6</td>\n",
       "      <td>2</td>\n",
       "      <td>102</td>\n",
       "      <td>1</td>\n",
       "      <td>27</td>\n",
       "      <td>...</td>\n",
       "      <td>0</td>\n",
       "      <td>0</td>\n",
       "      <td>0</td>\n",
       "      <td>0</td>\n",
       "      <td>0</td>\n",
       "      <td>0</td>\n",
       "      <td>0</td>\n",
       "      <td>1</td>\n",
       "      <td>0</td>\n",
       "      <td>0</td>\n",
       "    </tr>\n",
       "    <tr>\n",
       "      <th>2</th>\n",
       "      <td>Email 3</td>\n",
       "      <td>0</td>\n",
       "      <td>0</td>\n",
       "      <td>1</td>\n",
       "      <td>0</td>\n",
       "      <td>0</td>\n",
       "      <td>0</td>\n",
       "      <td>8</td>\n",
       "      <td>0</td>\n",
       "      <td>0</td>\n",
       "      <td>...</td>\n",
       "      <td>0</td>\n",
       "      <td>0</td>\n",
       "      <td>0</td>\n",
       "      <td>0</td>\n",
       "      <td>0</td>\n",
       "      <td>0</td>\n",
       "      <td>0</td>\n",
       "      <td>0</td>\n",
       "      <td>0</td>\n",
       "      <td>0</td>\n",
       "    </tr>\n",
       "    <tr>\n",
       "      <th>3</th>\n",
       "      <td>Email 4</td>\n",
       "      <td>0</td>\n",
       "      <td>5</td>\n",
       "      <td>22</td>\n",
       "      <td>0</td>\n",
       "      <td>5</td>\n",
       "      <td>1</td>\n",
       "      <td>51</td>\n",
       "      <td>2</td>\n",
       "      <td>10</td>\n",
       "      <td>...</td>\n",
       "      <td>0</td>\n",
       "      <td>0</td>\n",
       "      <td>0</td>\n",
       "      <td>0</td>\n",
       "      <td>0</td>\n",
       "      <td>0</td>\n",
       "      <td>0</td>\n",
       "      <td>0</td>\n",
       "      <td>0</td>\n",
       "      <td>0</td>\n",
       "    </tr>\n",
       "    <tr>\n",
       "      <th>4</th>\n",
       "      <td>Email 5</td>\n",
       "      <td>7</td>\n",
       "      <td>6</td>\n",
       "      <td>17</td>\n",
       "      <td>1</td>\n",
       "      <td>5</td>\n",
       "      <td>2</td>\n",
       "      <td>57</td>\n",
       "      <td>0</td>\n",
       "      <td>9</td>\n",
       "      <td>...</td>\n",
       "      <td>0</td>\n",
       "      <td>0</td>\n",
       "      <td>0</td>\n",
       "      <td>0</td>\n",
       "      <td>0</td>\n",
       "      <td>0</td>\n",
       "      <td>0</td>\n",
       "      <td>1</td>\n",
       "      <td>0</td>\n",
       "      <td>0</td>\n",
       "    </tr>\n",
       "  </tbody>\n",
       "</table>\n",
       "<p>5 rows × 3002 columns</p>\n",
       "</div>"
      ],
      "text/plain": [
       "  Email No.  the  to  ect  and  for  of    a  you  hou  ...  connevey  jay  \\\n",
       "0   Email 1    0   0    1    0    0   0    2    0    0  ...         0    0   \n",
       "1   Email 2    8  13   24    6    6   2  102    1   27  ...         0    0   \n",
       "2   Email 3    0   0    1    0    0   0    8    0    0  ...         0    0   \n",
       "3   Email 4    0   5   22    0    5   1   51    2   10  ...         0    0   \n",
       "4   Email 5    7   6   17    1    5   2   57    0    9  ...         0    0   \n",
       "\n",
       "   valued  lay  infrastructure  military  allowing  ff  dry  Prediction  \n",
       "0       0    0               0         0         0   0    0           0  \n",
       "1       0    0               0         0         0   1    0           0  \n",
       "2       0    0               0         0         0   0    0           0  \n",
       "3       0    0               0         0         0   0    0           0  \n",
       "4       0    0               0         0         0   1    0           0  \n",
       "\n",
       "[5 rows x 3002 columns]"
      ]
     },
     "execution_count": 7,
     "metadata": {},
     "output_type": "execute_result"
    }
   ],
   "source": [
    "# Show 1st 5 rows to get an idea about tha data dtored in each featurs\n",
    "df.head()"
   ]
  },
  {
   "cell_type": "code",
   "execution_count": 9,
   "id": "86b771c0-6eee-43fc-976b-9897d705e2af",
   "metadata": {},
   "outputs": [
    {
     "name": "stdout",
     "output_type": "stream",
     "text": [
      "============================================================\n",
      "DATA DESCRIPTION\n",
      "============================================================\n",
      "Number of observations: 5172\n",
      "Number of features: 3002\n"
     ]
    }
   ],
   "source": [
    "# Data Description\n",
    "print(\"=\" * 60)\n",
    "print(\"DATA DESCRIPTION\")\n",
    "print(\"=\" * 60)\n",
    "print(f\"Number of observations: {df.shape[0]}\")\n",
    "print(f\"Number of features: {df.shape[1]}\")"
   ]
  },
  {
   "cell_type": "code",
   "execution_count": 10,
   "id": "e83236b5-1555-407b-b1af-149e19ad8a84",
   "metadata": {},
   "outputs": [
    {
     "name": "stdout",
     "output_type": "stream",
     "text": [
      "============================================================\n",
      "FEATURE DESCRIPTION\n",
      "============================================================\n",
      "Email No.     object\n",
      "the            int64\n",
      "to             int64\n",
      "ect            int64\n",
      "and            int64\n",
      "               ...  \n",
      "military       int64\n",
      "allowing       int64\n",
      "ff             int64\n",
      "dry            int64\n",
      "Prediction     int64\n",
      "Length: 3002, dtype: object\n"
     ]
    }
   ],
   "source": [
    "# Feature Description\n",
    "print(\"=\" * 60)\n",
    "print(\"FEATURE DESCRIPTION\")\n",
    "print(\"=\" * 60)\n",
    "print(df.dtypes)"
   ]
  },
  {
   "cell_type": "code",
   "execution_count": 11,
   "id": "9fc00c4b-5316-4bfc-bb44-50920bf6a55c",
   "metadata": {},
   "outputs": [
    {
     "name": "stdout",
     "output_type": "stream",
     "text": [
      "============================================================\n",
      "MISSING VALUE DETECTION\n",
      "============================================================\n",
      "No missing value present in any feature.\n"
     ]
    }
   ],
   "source": [
    "# Missing value detection\n",
    "print(\"=\" * 60)\n",
    "print(\"MISSING VALUE DETECTION\")\n",
    "print(\"=\" * 60)\n",
    "if df.isnull().sum().sum() > 0:\n",
    "    print(df.isnull().sum())\n",
    "else:\n",
    "    print(\"No missing value present in any feature.\")"
   ]
  },
  {
   "cell_type": "code",
   "execution_count": 12,
   "id": "4429b07b-8709-4fbe-acc9-f49af7804366",
   "metadata": {},
   "outputs": [
    {
     "name": "stdout",
     "output_type": "stream",
     "text": [
      "============================================================\n",
      "DUPLICATE ROW DETECTION\n",
      "============================================================\n",
      "Number of duplicate rows: 0\n"
     ]
    }
   ],
   "source": [
    "# Duplicate Row Detection\n",
    "print(\"=\" * 60)\n",
    "print(\"DUPLICATE ROW DETECTION\")\n",
    "print(\"=\" * 60)\n",
    "print(f\"Number of duplicate rows: {df.duplicated().sum()}\")"
   ]
  },
  {
   "cell_type": "code",
   "execution_count": null,
   "id": "bbadbc21-23f4-42f5-b371-0cdaffbdc1c7",
   "metadata": {},
   "outputs": [],
   "source": []
  }
 ],
 "metadata": {
  "kernelspec": {
   "display_name": "Python 3 (ipykernel)",
   "language": "python",
   "name": "python3"
  },
  "language_info": {
   "codemirror_mode": {
    "name": "ipython",
    "version": 3
   },
   "file_extension": ".py",
   "mimetype": "text/x-python",
   "name": "python",
   "nbconvert_exporter": "python",
   "pygments_lexer": "ipython3",
   "version": "3.11.9"
  }
 },
 "nbformat": 4,
 "nbformat_minor": 5
}
